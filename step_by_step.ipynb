{
 "cells": [
  {
   "cell_type": "code",
   "execution_count": null,
   "id": "bcd4c636",
   "metadata": {},
   "outputs": [],
   "source": [
    "# 使用autodl首次下载模型时需要开启加速\n",
    "import subprocess\n",
    "import os\n",
    "\n",
    "result = subprocess.run('bash -c \"source /etc/network_turbo && env | grep proxy\"', shell=True, capture_output=True, text=True)\n",
    "output = result.stdout\n",
    "for line in output.splitlines():\n",
    "    if '=' in line:\n",
    "        var, value = line.split('=', 1)\n",
    "        os.environ[var] = value\n"
   ]
  },
  {
   "cell_type": "code",
   "execution_count": null,
   "id": "a3acc27d",
   "metadata": {},
   "outputs": [],
   "source": [
    "import torch\n",
    "import pandas as pd\n",
    "\n",
    "pd.options.mode.copy_on_write = True"
   ]
  },
  {
   "cell_type": "code",
   "execution_count": null,
   "id": "4280c362",
   "metadata": {},
   "outputs": [],
   "source": [
    "# 全局配置参数\n",
    "config = {\n",
    "    'device': 'cuda' if torch.cuda.is_available() else 'cpu',\n",
    "\n",
    "    'etf_code': '510500',\n",
    "\n",
    "    'data_dir': 'data',\n",
    "    'sample_sequence_window': 90,\n",
    "    'max_news_per_day': 20,\n",
    "    'max_news_length': 456,\n",
    "\n",
    "    'trainer_config': {\n",
    "        'batch_size': 32,\n",
    "        'num_epochs': 100,\n",
    "        'patience': 10,\n",
    "        'grad_clip': 1.0,\n",
    "\n",
    "        'checkpoint_path': 'checkpoint/',\n",
    "        'checkpoint_interval': 5,\n",
    "        'model_save_path': 'model/',\n",
    "    },\n",
    "\n",
    "    'model_config': {\n",
    "        'news_emb_aggregate_output_size': 256,\n",
    "        'fusion_hidden': 256,\n",
    "        'tech_feature_dim': 12,\n",
    "        'pred_days': 5,\n",
    "        'gru_hidden': 256,\n",
    "        \n",
    "    }\n",
    "}\n",
    "device = torch.device(config['device'])"
   ]
  },
  {
   "cell_type": "code",
   "execution_count": null,
   "id": "2a6a0fbb",
   "metadata": {},
   "outputs": [],
   "source": [
    "from transformers import AutoTokenizer\n",
    "tokenizer = AutoTokenizer.from_pretrained(\"yiyanghkust/finbert-tone-chinese\")"
   ]
  },
  {
   "cell_type": "code",
   "execution_count": null,
   "id": "a7c1e2e8",
   "metadata": {},
   "outputs": [],
   "source": [
    "from data_preprocessor import DataPreprocessor\n",
    "# 准备数据\n",
    "dp = DataPreprocessor(config, tokenizer)\n",
    "dp.load_data_frame(from_csv=True)"
   ]
  },
  {
   "cell_type": "code",
   "execution_count": null,
   "id": "9744ca99",
   "metadata": {},
   "outputs": [],
   "source": [
    "from etf_dataset import ETFDataset\n",
    "ds = ETFDataset(dp.etf_df, dp.preprocess_news(), tokenizer, config['sample_sequence_window'], config['model_config']['pred_days'])"
   ]
  },
  {
   "cell_type": "code",
   "execution_count": null,
   "id": "e92821b5",
   "metadata": {},
   "outputs": [],
   "source": [
    "print(f\"etf_seq_size:\\t{len(ds.etf_df)}\\nnews_seq_size:\\t{len(ds.news_dict)}\\ndataset_size:\\t{len(ds)}\")\n",
    "# print(\"-\" * 20)\n",
    "\n",
    "# for seq in [0, len(ds)-1]:\n",
    "#     end_date = ds.dates[seq]\n",
    "#     start_date = ds.etf_df.index[seq]\n",
    "#     print(f\"#### test ds.__get_item__({seq}), date: {start_date} -> {end_date} ####\")\n",
    "#     print(f\"seq len = {len(ds.etf_df.loc[start_date:end_date]['date'])}\")\n",
    "\n",
    "# del seq, end_date, start_date"
   ]
  },
  {
   "cell_type": "code",
   "execution_count": null,
   "id": "0b824de8",
   "metadata": {},
   "outputs": [],
   "source": [
    "from trainer import Trainer\n",
    "# 初始化训练器\n",
    "trainer = Trainer(config, device)\n",
    "trainer.init_dataloader(ds)"
   ]
  },
  {
   "cell_type": "code",
   "execution_count": null,
   "id": "f5a814bf",
   "metadata": {},
   "outputs": [],
   "source": [
    "for batch in trainer.test_loader:\n",
    "    tech_data = batch['tech_data'][0].unsqueeze(0).to(trainer.device)\n",
    "    input_ids = batch['input_ids'][0].unsqueeze(0).to(trainer.device)\n",
    "    attention_mask = batch['attention_mask'][0].unsqueeze(0).to(trainer.device)\n",
    "    news_weights = batch['news_weights'][0].unsqueeze(0).to(trainer.device)\n",
    "    \n",
    "    outputs = trainer.model(tech_data, input_ids, attention_mask, news_weights)\n",
    "    print(outputs)\n",
    "    break"
   ]
  }
 ],
 "metadata": {
  "kernelspec": {
   "display_name": "pytorch_env_310",
   "language": "python",
   "name": "python3"
  },
  "language_info": {
   "codemirror_mode": {
    "name": "ipython",
    "version": 3
   },
   "file_extension": ".py",
   "mimetype": "text/x-python",
   "name": "python",
   "nbconvert_exporter": "python",
   "pygments_lexer": "ipython3",
   "version": "3.10.16"
  }
 },
 "nbformat": 4,
 "nbformat_minor": 5
}
