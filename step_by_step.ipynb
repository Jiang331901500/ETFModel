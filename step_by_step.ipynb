{
 "cells": [
  {
   "cell_type": "code",
   "execution_count": null,
   "id": "bcd4c636",
   "metadata": {},
   "outputs": [],
   "source": [
    "# 使用autodl首次下载模型时需要开启加速\n",
    "import subprocess\n",
    "import os\n",
    "\n",
    "result = subprocess.run('bash -c \"source /etc/network_turbo && env | grep proxy\"', shell=True, capture_output=True, text=True)\n",
    "output = result.stdout\n",
    "for line in output.splitlines():\n",
    "    if '=' in line:\n",
    "        var, value = line.split('=', 1)\n",
    "        os.environ[var] = value\n"
   ]
  },
  {
   "cell_type": "code",
   "execution_count": null,
   "id": "a3acc27d",
   "metadata": {},
   "outputs": [],
   "source": [
    "import torch\n",
    "import pandas as pd\n",
    "\n",
    "pd.options.mode.copy_on_write = True"
   ]
  },
  {
   "cell_type": "code",
   "execution_count": null,
   "id": "4280c362",
   "metadata": {},
   "outputs": [],
   "source": [
    "import train\n",
    "# 全局配置参数\n",
    "config = train.config\n",
    "device = torch.device(config['device'])"
   ]
  },
  {
   "cell_type": "code",
   "execution_count": null,
   "id": "2a6a0fbb",
   "metadata": {},
   "outputs": [],
   "source": [
    "from transformers import AutoTokenizer\n",
    "tokenizer = AutoTokenizer.from_pretrained(\"yiyanghkust/finbert-tone-chinese\")"
   ]
  },
  {
   "cell_type": "code",
   "execution_count": null,
   "id": "a7c1e2e8",
   "metadata": {},
   "outputs": [],
   "source": [
    "from data_preprocessor import DataPreprocessor\n",
    "# 准备数据\n",
    "dp = DataPreprocessor(config, tokenizer)\n",
    "dp.load_data_frame(from_pkl=True)"
   ]
  },
  {
   "cell_type": "code",
   "execution_count": null,
   "id": "9744ca99",
   "metadata": {},
   "outputs": [],
   "source": [
    "from etf_dataset import ETFDataset\n",
    "ds = ETFDataset(dp.etf_df, dp.preprocess_news(), tokenizer, config['sample_sequence_window'], config['model_config']['pred_days'])\n",
    "del dp"
   ]
  },
  {
   "cell_type": "code",
   "execution_count": null,
   "id": "e92821b5",
   "metadata": {},
   "outputs": [],
   "source": [
    "print(f\"etf_seq_size:\\t{len(ds.etf_df)}\\nnews_seq_size:\\t{len(ds.news_dict)}\\ndataset_size:\\t{len(ds)}\")\n",
    "# print(\"-\" * 20)\n",
    "\n",
    "# for seq in [0, len(ds)-1]:\n",
    "#     end_date = ds.dates[seq]\n",
    "#     start_date = ds.etf_df.index[seq]\n",
    "#     print(f\"#### test ds.__get_item__({seq}), date: {start_date} -> {end_date} ####\")\n",
    "#     print(f\"seq len = {len(ds.etf_df.loc[start_date:end_date]['date'])}\")\n",
    "\n",
    "# del seq, end_date, start_date"
   ]
  },
  {
   "cell_type": "code",
   "execution_count": null,
   "id": "0b824de8",
   "metadata": {},
   "outputs": [],
   "source": [
    "from trainer import Trainer\n",
    "# 初始化训练器\n",
    "trainer = Trainer(config, device)\n",
    "trainer.init_dataloader(ds)"
   ]
  },
  {
   "cell_type": "code",
   "execution_count": null,
   "id": "f5a814bf",
   "metadata": {},
   "outputs": [],
   "source": [
    "for batch in trainer.test_loader:\n",
    "    tech_data = batch['tech_data'][0].unsqueeze(0).to(trainer.device)\n",
    "    input_ids = batch['input_ids'][0].unsqueeze(0).to(trainer.device)\n",
    "    attention_mask = batch['attention_mask'][0].unsqueeze(0).to(trainer.device)\n",
    "    news_weights = batch['news_weights'][0].unsqueeze(0).to(trainer.device)\n",
    "    with torch.autocast(device_type=device.type):\n",
    "        outputs = trainer.model(tech_data, input_ids, attention_mask, news_weights)\n",
    "        print(outputs)\n",
    "    break"
   ]
  }
 ],
 "metadata": {
  "kernelspec": {
   "display_name": "pytorch_env_310",
   "language": "python",
   "name": "python3"
  },
  "language_info": {
   "codemirror_mode": {
    "name": "ipython",
    "version": 3
   },
   "file_extension": ".py",
   "mimetype": "text/x-python",
   "name": "python",
   "nbconvert_exporter": "python",
   "pygments_lexer": "ipython3",
   "version": "3.10.16"
  }
 },
 "nbformat": 4,
 "nbformat_minor": 5
}
